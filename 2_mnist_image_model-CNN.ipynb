{
 "cells": [
  {
   "cell_type": "code",
   "execution_count": 1,
   "id": "7059d4cf-25ce-427f-a75b-e075075c5a5c",
   "metadata": {
    "execution": {
     "iopub.execute_input": "2024-09-22T23:41:14.419078Z",
     "iopub.status.busy": "2024-09-22T23:41:14.418580Z",
     "iopub.status.idle": "2024-09-22T23:41:17.925888Z",
     "shell.execute_reply": "2024-09-22T23:41:17.924798Z",
     "shell.execute_reply.started": "2024-09-22T23:41:14.419041Z"
    }
   },
   "outputs": [
    {
     "name": "stderr",
     "output_type": "stream",
     "text": [
      "2024-09-22 23:41:14.988170: E external/local_xla/xla/stream_executor/cuda/cuda_dnn.cc:9261] Unable to register cuDNN factory: Attempting to register factory for plugin cuDNN when one has already been registered\n",
      "2024-09-22 23:41:14.988258: E external/local_xla/xla/stream_executor/cuda/cuda_fft.cc:607] Unable to register cuFFT factory: Attempting to register factory for plugin cuFFT when one has already been registered\n",
      "2024-09-22 23:41:14.990428: E external/local_xla/xla/stream_executor/cuda/cuda_blas.cc:1515] Unable to register cuBLAS factory: Attempting to register factory for plugin cuBLAS when one has already been registered\n",
      "2024-09-22 23:41:15.000910: I tensorflow/core/platform/cpu_feature_guard.cc:182] This TensorFlow binary is optimized to use available CPU instructions in performance-critical operations.\n",
      "To enable the following instructions: AVX2 FMA, in other operations, rebuild TensorFlow with the appropriate compiler flags.\n",
      "2024-09-22 23:41:16.195529: W tensorflow/compiler/tf2tensorrt/utils/py_utils.cc:38] TF-TRT Warning: Could not find TensorRT\n"
     ]
    }
   ],
   "source": [
    "import tensorflow as tf "
   ]
  },
  {
   "cell_type": "code",
   "execution_count": 12,
   "id": "04ffa20a-a73b-4020-812a-14d2c46af988",
   "metadata": {
    "execution": {
     "iopub.execute_input": "2024-09-22T23:47:35.128335Z",
     "iopub.status.busy": "2024-09-22T23:47:35.127569Z",
     "iopub.status.idle": "2024-09-22T23:47:35.134387Z",
     "shell.execute_reply": "2024-09-22T23:47:35.133214Z",
     "shell.execute_reply.started": "2024-09-22T23:47:35.128288Z"
    }
   },
   "outputs": [],
   "source": [
    "class acc_callback(tf.keras.callbacks.Callback):\n",
    "    def on_epoch_end(self, epoch, logs={}):\n",
    "        if(logs.get('accuracy') > 0.95):\n",
    "           print(\"\\nReached 92% accuracy, stopping training\")\n",
    "           self.model.stop_training = True\n",
    "callback = acc_callback()"
   ]
  },
  {
   "cell_type": "code",
   "execution_count": 3,
   "id": "9a339983-b3d9-427d-aed2-bc5cfd15ad4f",
   "metadata": {
    "execution": {
     "iopub.execute_input": "2024-09-22T23:41:22.860231Z",
     "iopub.status.busy": "2024-09-22T23:41:22.858730Z",
     "iopub.status.idle": "2024-09-22T23:41:22.865390Z",
     "shell.execute_reply": "2024-09-22T23:41:22.864228Z",
     "shell.execute_reply.started": "2024-09-22T23:41:22.860149Z"
    }
   },
   "outputs": [],
   "source": [
    "data = tf.keras.datasets.fashion_mnist"
   ]
  },
  {
   "cell_type": "code",
   "execution_count": 9,
   "id": "fb8e010c-eeeb-4782-ad80-349ec916a6a2",
   "metadata": {
    "execution": {
     "iopub.execute_input": "2024-09-22T23:43:55.994784Z",
     "iopub.status.busy": "2024-09-22T23:43:55.994394Z",
     "iopub.status.idle": "2024-09-22T23:43:56.811440Z",
     "shell.execute_reply": "2024-09-22T23:43:56.810082Z",
     "shell.execute_reply.started": "2024-09-22T23:43:55.994755Z"
    }
   },
   "outputs": [],
   "source": [
    "(training_images,training_labels), (test_images, test_labels) = data.load_data()\n",
    "training_images = training_images.reshape(60000,28,28,1)\n",
    "training_images = training_images/255.0\n",
    "test_images = test_images.reshape(10000,28,28,1)\n",
    "test_images = test_images/255.0"
   ]
  },
  {
   "cell_type": "code",
   "execution_count": 7,
   "id": "c2773af4-bd2f-4726-b35b-2ea6c28ba602",
   "metadata": {
    "execution": {
     "iopub.execute_input": "2024-09-22T23:41:47.266350Z",
     "iopub.status.busy": "2024-09-22T23:41:47.265176Z",
     "iopub.status.idle": "2024-09-22T23:41:47.279136Z",
     "shell.execute_reply": "2024-09-22T23:41:47.277362Z",
     "shell.execute_reply.started": "2024-09-22T23:41:47.266295Z"
    }
   },
   "outputs": [
    {
     "data": {
      "text/plain": [
       "60000"
      ]
     },
     "execution_count": 7,
     "metadata": {},
     "output_type": "execute_result"
    }
   ],
   "source": [
    "len(training_images)"
   ]
  },
  {
   "cell_type": "code",
   "execution_count": 10,
   "id": "38b8899d-f350-458e-a925-1b9a8ed2f5e9",
   "metadata": {
    "execution": {
     "iopub.execute_input": "2024-09-22T23:46:54.957135Z",
     "iopub.status.busy": "2024-09-22T23:46:54.956162Z",
     "iopub.status.idle": "2024-09-22T23:46:58.365338Z",
     "shell.execute_reply": "2024-09-22T23:46:58.364010Z",
     "shell.execute_reply.started": "2024-09-22T23:46:54.957095Z"
    }
   },
   "outputs": [
    {
     "name": "stderr",
     "output_type": "stream",
     "text": [
      "2024-09-22 23:46:55.052812: I external/local_xla/xla/stream_executor/cuda/cuda_executor.cc:901] successful NUMA node read from SysFS had negative value (-1), but there must be at least one NUMA node, so returning NUMA node zero. See more at https://github.com/torvalds/linux/blob/v6.0/Documentation/ABI/testing/sysfs-bus-pci#L344-L355\n",
      "2024-09-22 23:46:55.138659: I external/local_xla/xla/stream_executor/cuda/cuda_executor.cc:901] successful NUMA node read from SysFS had negative value (-1), but there must be at least one NUMA node, so returning NUMA node zero. See more at https://github.com/torvalds/linux/blob/v6.0/Documentation/ABI/testing/sysfs-bus-pci#L344-L355\n",
      "2024-09-22 23:46:55.139067: I external/local_xla/xla/stream_executor/cuda/cuda_executor.cc:901] successful NUMA node read from SysFS had negative value (-1), but there must be at least one NUMA node, so returning NUMA node zero. See more at https://github.com/torvalds/linux/blob/v6.0/Documentation/ABI/testing/sysfs-bus-pci#L344-L355\n",
      "2024-09-22 23:46:55.141946: I external/local_xla/xla/stream_executor/cuda/cuda_executor.cc:901] successful NUMA node read from SysFS had negative value (-1), but there must be at least one NUMA node, so returning NUMA node zero. See more at https://github.com/torvalds/linux/blob/v6.0/Documentation/ABI/testing/sysfs-bus-pci#L344-L355\n",
      "2024-09-22 23:46:55.142428: I external/local_xla/xla/stream_executor/cuda/cuda_executor.cc:901] successful NUMA node read from SysFS had negative value (-1), but there must be at least one NUMA node, so returning NUMA node zero. See more at https://github.com/torvalds/linux/blob/v6.0/Documentation/ABI/testing/sysfs-bus-pci#L344-L355\n",
      "2024-09-22 23:46:55.142689: I external/local_xla/xla/stream_executor/cuda/cuda_executor.cc:901] successful NUMA node read from SysFS had negative value (-1), but there must be at least one NUMA node, so returning NUMA node zero. See more at https://github.com/torvalds/linux/blob/v6.0/Documentation/ABI/testing/sysfs-bus-pci#L344-L355\n",
      "2024-09-22 23:46:57.749371: I external/local_xla/xla/stream_executor/cuda/cuda_executor.cc:901] successful NUMA node read from SysFS had negative value (-1), but there must be at least one NUMA node, so returning NUMA node zero. See more at https://github.com/torvalds/linux/blob/v6.0/Documentation/ABI/testing/sysfs-bus-pci#L344-L355\n",
      "2024-09-22 23:46:57.749722: I external/local_xla/xla/stream_executor/cuda/cuda_executor.cc:901] successful NUMA node read from SysFS had negative value (-1), but there must be at least one NUMA node, so returning NUMA node zero. See more at https://github.com/torvalds/linux/blob/v6.0/Documentation/ABI/testing/sysfs-bus-pci#L344-L355\n",
      "2024-09-22 23:46:57.749996: I external/local_xla/xla/stream_executor/cuda/cuda_executor.cc:901] successful NUMA node read from SysFS had negative value (-1), but there must be at least one NUMA node, so returning NUMA node zero. See more at https://github.com/torvalds/linux/blob/v6.0/Documentation/ABI/testing/sysfs-bus-pci#L344-L355\n",
      "2024-09-22 23:46:57.750185: I tensorflow/core/common_runtime/gpu/gpu_device.cc:1929] Created device /job:localhost/replica:0/task:0/device:GPU:0 with 15526 MB memory:  -> device: 0, name: Quadro P5000, pci bus id: 0000:00:05.0, compute capability: 6.1\n"
     ]
    }
   ],
   "source": [
    "model = tf.keras.models.Sequential([\n",
    "    tf.keras.layers.Conv2D(64,(3,3), activation='relu', input_shape=(28,28,1)),\n",
    "    tf.keras.layers.MaxPooling2D(2,2),\n",
    "    tf.keras.layers.Conv2D(64, (3,3), activation='relu'),\n",
    "    tf.keras.layers.MaxPooling2D(2,2),\n",
    "    tf.keras.layers.Flatten(),\n",
    "    tf.keras.layers.Dense(128, activation=tf.nn.relu),\n",
    "    tf.keras.layers.Dense(10, activation=tf.nn.softmax)\n",
    "])"
   ]
  },
  {
   "cell_type": "code",
   "execution_count": 11,
   "id": "239573bf-d1d0-4ff6-a88c-0de7374b962b",
   "metadata": {
    "execution": {
     "iopub.execute_input": "2024-09-22T23:47:16.240740Z",
     "iopub.status.busy": "2024-09-22T23:47:16.240318Z",
     "iopub.status.idle": "2024-09-22T23:47:16.277263Z",
     "shell.execute_reply": "2024-09-22T23:47:16.275814Z",
     "shell.execute_reply.started": "2024-09-22T23:47:16.240706Z"
    }
   },
   "outputs": [],
   "source": [
    "model.compile(optimizer='adam',\n",
    "                loss='sparse_categorical_crossentropy',\n",
    "                metrics=['accuracy'])"
   ]
  },
  {
   "cell_type": "code",
   "execution_count": 13,
   "id": "5552a094-e183-42a4-9b00-e32e0de29af2",
   "metadata": {
    "execution": {
     "iopub.execute_input": "2024-09-22T23:47:39.920444Z",
     "iopub.status.busy": "2024-09-22T23:47:39.918702Z",
     "iopub.status.idle": "2024-09-22T23:49:38.613202Z",
     "shell.execute_reply": "2024-09-22T23:49:38.611824Z",
     "shell.execute_reply.started": "2024-09-22T23:47:39.920355Z"
    }
   },
   "outputs": [
    {
     "name": "stderr",
     "output_type": "stream",
     "text": [
      "2024-09-22 23:47:41.165906: W external/local_tsl/tsl/framework/cpu_allocator_impl.cc:83] Allocation of 188160000 exceeds 10% of free system memory.\n",
      "2024-09-22 23:47:41.521337: W external/local_tsl/tsl/framework/cpu_allocator_impl.cc:83] Allocation of 188160000 exceeds 10% of free system memory.\n"
     ]
    },
    {
     "name": "stdout",
     "output_type": "stream",
     "text": [
      "Epoch 1/50\n"
     ]
    },
    {
     "name": "stderr",
     "output_type": "stream",
     "text": [
      "2024-09-22 23:47:45.360842: I external/local_xla/xla/stream_executor/cuda/cuda_dnn.cc:454] Loaded cuDNN version 8907\n",
      "2024-09-22 23:47:49.099254: I external/local_xla/xla/service/service.cc:168] XLA service 0x7f266f7a8a20 initialized for platform CUDA (this does not guarantee that XLA will be used). Devices:\n",
      "2024-09-22 23:47:49.099327: I external/local_xla/xla/service/service.cc:176]   StreamExecutor device (0): Quadro P5000, Compute Capability 6.1\n",
      "2024-09-22 23:47:49.146929: I tensorflow/compiler/mlir/tensorflow/utils/dump_mlir_util.cc:269] disabling MLIR crash reproducer, set env var `MLIR_CRASH_REPRODUCER_DIRECTORY` to enable.\n",
      "WARNING: All log messages before absl::InitializeLog() is called are written to STDERR\n",
      "I0000 00:00:1727048869.438595     182 device_compiler.h:186] Compiled cluster using XLA!  This line is logged at most once for the lifetime of the process.\n"
     ]
    },
    {
     "name": "stdout",
     "output_type": "stream",
     "text": [
      "1875/1875 [==============================] - 24s 7ms/step - loss: 0.4358 - accuracy: 0.8415\n",
      "Epoch 2/50\n",
      "1875/1875 [==============================] - 13s 7ms/step - loss: 0.2907 - accuracy: 0.8932\n",
      "Epoch 3/50\n",
      "1875/1875 [==============================] - 14s 7ms/step - loss: 0.2469 - accuracy: 0.9083\n",
      "Epoch 4/50\n",
      "1875/1875 [==============================] - 13s 7ms/step - loss: 0.2159 - accuracy: 0.9198\n",
      "Epoch 5/50\n",
      "1875/1875 [==============================] - 12s 7ms/step - loss: 0.1888 - accuracy: 0.9297\n",
      "Epoch 6/50\n",
      "1875/1875 [==============================] - 14s 7ms/step - loss: 0.1665 - accuracy: 0.9366\n",
      "Epoch 7/50\n",
      "1875/1875 [==============================] - 13s 7ms/step - loss: 0.1470 - accuracy: 0.9448\n",
      "Epoch 8/50\n",
      "1870/1875 [============================>.] - ETA: 0s - loss: 0.1279 - accuracy: 0.9517\n",
      "Reached 92% accuracy, stopping training\n",
      "1875/1875 [==============================] - 13s 7ms/step - loss: 0.1279 - accuracy: 0.9517\n"
     ]
    },
    {
     "data": {
      "text/plain": [
       "<keras.src.callbacks.History at 0x7f2c05e59490>"
      ]
     },
     "execution_count": 13,
     "metadata": {},
     "output_type": "execute_result"
    }
   ],
   "source": [
    "model.fit(training_images, training_labels, epochs=50, callbacks=[callback])"
   ]
  },
  {
   "cell_type": "code",
   "execution_count": 14,
   "id": "1b67ff3b-58bf-436e-816d-2427cc94a903",
   "metadata": {
    "execution": {
     "iopub.execute_input": "2024-09-22T23:50:32.932639Z",
     "iopub.status.busy": "2024-09-22T23:50:32.932190Z",
     "iopub.status.idle": "2024-09-22T23:50:34.948329Z",
     "shell.execute_reply": "2024-09-22T23:50:34.947222Z",
     "shell.execute_reply.started": "2024-09-22T23:50:32.932602Z"
    }
   },
   "outputs": [
    {
     "name": "stderr",
     "output_type": "stream",
     "text": [
      "2024-09-22 23:50:33.103794: W external/local_tsl/tsl/framework/cpu_allocator_impl.cc:83] Allocation of 31360000 exceeds 10% of free system memory.\n",
      "2024-09-22 23:50:33.201343: W external/local_tsl/tsl/framework/cpu_allocator_impl.cc:83] Allocation of 31360000 exceeds 10% of free system memory.\n"
     ]
    },
    {
     "name": "stdout",
     "output_type": "stream",
     "text": [
      "313/313 [==============================] - 2s 5ms/step - loss: 0.2628 - accuracy: 0.9125\n"
     ]
    },
    {
     "data": {
      "text/plain": [
       "[0.2627873718738556, 0.9125000238418579]"
      ]
     },
     "execution_count": 14,
     "metadata": {},
     "output_type": "execute_result"
    }
   ],
   "source": [
    "model.evaluate(test_images, test_labels)"
   ]
  },
  {
   "cell_type": "code",
   "execution_count": 15,
   "id": "fa0b2659-ec74-4481-82b4-48f70d95ec10",
   "metadata": {
    "execution": {
     "iopub.execute_input": "2024-09-22T23:50:48.104930Z",
     "iopub.status.busy": "2024-09-22T23:50:48.104535Z",
     "iopub.status.idle": "2024-09-22T23:50:49.949695Z",
     "shell.execute_reply": "2024-09-22T23:50:49.948191Z",
     "shell.execute_reply.started": "2024-09-22T23:50:48.104902Z"
    }
   },
   "outputs": [
    {
     "name": "stdout",
     "output_type": "stream",
     "text": [
      "  1/313 [..............................] - ETA: 38s"
     ]
    },
    {
     "name": "stderr",
     "output_type": "stream",
     "text": [
      "2024-09-22 23:50:48.185573: W external/local_tsl/tsl/framework/cpu_allocator_impl.cc:83] Allocation of 31360000 exceeds 10% of free system memory.\n"
     ]
    },
    {
     "name": "stdout",
     "output_type": "stream",
     "text": [
      "313/313 [==============================] - 1s 4ms/step\n",
      "[6.2918697e-09 1.1921778e-12 2.0909253e-08 2.6069911e-09 3.3216095e-12\n",
      " 4.8359823e-07 1.7936787e-09 8.2277775e-06 1.4150835e-10 9.9999130e-01]\n",
      "9\n"
     ]
    }
   ],
   "source": [
    "classifications = model.predict(test_images)\n",
    "print(classifications[0])\n",
    "print(test_labels[0])\n"
   ]
  },
  {
   "cell_type": "code",
   "execution_count": 17,
   "id": "c6aa20d1-3e1c-4489-ae1e-dec99cfce547",
   "metadata": {
    "execution": {
     "iopub.execute_input": "2024-09-22T23:52:22.414480Z",
     "iopub.status.busy": "2024-09-22T23:52:22.412668Z",
     "iopub.status.idle": "2024-09-22T23:52:22.452104Z",
     "shell.execute_reply": "2024-09-22T23:52:22.450427Z",
     "shell.execute_reply.started": "2024-09-22T23:52:22.414417Z"
    }
   },
   "outputs": [
    {
     "name": "stdout",
     "output_type": "stream",
     "text": [
      "Model: \"sequential\"\n",
      "_________________________________________________________________\n",
      " Layer (type)                Output Shape              Param #   \n",
      "=================================================================\n",
      " conv2d (Conv2D)             (None, 26, 26, 64)        640       \n",
      "                                                                 \n",
      " max_pooling2d (MaxPooling2  (None, 13, 13, 64)        0         \n",
      " D)                                                              \n",
      "                                                                 \n",
      " conv2d_1 (Conv2D)           (None, 11, 11, 64)        36928     \n",
      "                                                                 \n",
      " max_pooling2d_1 (MaxPoolin  (None, 5, 5, 64)          0         \n",
      " g2D)                                                            \n",
      "                                                                 \n",
      " flatten (Flatten)           (None, 1600)              0         \n",
      "                                                                 \n",
      " dense (Dense)               (None, 128)               204928    \n",
      "                                                                 \n",
      " dense_1 (Dense)             (None, 10)                1290      \n",
      "                                                                 \n",
      "=================================================================\n",
      "Total params: 243786 (952.29 KB)\n",
      "Trainable params: 243786 (952.29 KB)\n",
      "Non-trainable params: 0 (0.00 Byte)\n",
      "_________________________________________________________________\n"
     ]
    }
   ],
   "source": [
    "model.summary()"
   ]
  },
  {
   "cell_type": "code",
   "execution_count": null,
   "id": "5bcdf4f0-5ba8-487f-9508-8b9d4cafaa33",
   "metadata": {},
   "outputs": [],
   "source": []
  },
  {
   "cell_type": "code",
   "execution_count": null,
   "id": "7cbc0887-0528-4bef-82f7-a200d38ba2f1",
   "metadata": {},
   "outputs": [],
   "source": []
  },
  {
   "cell_type": "code",
   "execution_count": null,
   "id": "23a41ee1-c60f-4b47-9057-91b5bedcf5fd",
   "metadata": {},
   "outputs": [],
   "source": []
  }
 ],
 "metadata": {
  "kernelspec": {
   "display_name": "Python 3 (ipykernel)",
   "language": "python",
   "name": "python3"
  },
  "language_info": {
   "codemirror_mode": {
    "name": "ipython",
    "version": 3
   },
   "file_extension": ".py",
   "mimetype": "text/x-python",
   "name": "python",
   "nbconvert_exporter": "python",
   "pygments_lexer": "ipython3",
   "version": "3.11.7"
  }
 },
 "nbformat": 4,
 "nbformat_minor": 5
}
