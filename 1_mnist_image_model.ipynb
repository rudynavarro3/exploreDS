{
 "cells": [
  {
   "cell_type": "code",
   "execution_count": 1,
   "id": "7059d4cf-25ce-427f-a75b-e075075c5a5c",
   "metadata": {
    "execution": {
     "iopub.execute_input": "2024-09-22T20:24:53.479966Z",
     "iopub.status.busy": "2024-09-22T20:24:53.479624Z",
     "iopub.status.idle": "2024-09-22T20:24:56.659373Z",
     "shell.execute_reply": "2024-09-22T20:24:56.658474Z",
     "shell.execute_reply.started": "2024-09-22T20:24:53.479941Z"
    }
   },
   "outputs": [
    {
     "name": "stderr",
     "output_type": "stream",
     "text": [
      "2024-09-22 20:24:53.918784: E external/local_xla/xla/stream_executor/cuda/cuda_dnn.cc:9261] Unable to register cuDNN factory: Attempting to register factory for plugin cuDNN when one has already been registered\n",
      "2024-09-22 20:24:53.918889: E external/local_xla/xla/stream_executor/cuda/cuda_fft.cc:607] Unable to register cuFFT factory: Attempting to register factory for plugin cuFFT when one has already been registered\n",
      "2024-09-22 20:24:53.920577: E external/local_xla/xla/stream_executor/cuda/cuda_blas.cc:1515] Unable to register cuBLAS factory: Attempting to register factory for plugin cuBLAS when one has already been registered\n",
      "2024-09-22 20:24:53.930920: I tensorflow/core/platform/cpu_feature_guard.cc:182] This TensorFlow binary is optimized to use available CPU instructions in performance-critical operations.\n",
      "To enable the following instructions: AVX2 FMA, in other operations, rebuild TensorFlow with the appropriate compiler flags.\n",
      "2024-09-22 20:24:55.031538: W tensorflow/compiler/tf2tensorrt/utils/py_utils.cc:38] TF-TRT Warning: Could not find TensorRT\n"
     ]
    }
   ],
   "source": [
    "import tensorflow as tf "
   ]
  },
  {
   "cell_type": "code",
   "execution_count": 32,
   "id": "04ffa20a-a73b-4020-812a-14d2c46af988",
   "metadata": {
    "execution": {
     "iopub.execute_input": "2024-09-22T20:54:14.905490Z",
     "iopub.status.busy": "2024-09-22T20:54:14.905160Z",
     "iopub.status.idle": "2024-09-22T20:54:14.910359Z",
     "shell.execute_reply": "2024-09-22T20:54:14.909508Z",
     "shell.execute_reply.started": "2024-09-22T20:54:14.905467Z"
    }
   },
   "outputs": [],
   "source": [
    "class acc_callback(tf.keras.callbacks.Callback):\n",
    "    def on_epoch_end(self, epoch, logs={}):\n",
    "        if(logs.get('accuracy') > 0.92):\n",
    "           print(\"\\nReached 92% accuracy, stopping training\")\n",
    "           self.model.stop_training = True\n",
    "callback = acc_callback()"
   ]
  },
  {
   "cell_type": "code",
   "execution_count": 27,
   "id": "9a339983-b3d9-427d-aed2-bc5cfd15ad4f",
   "metadata": {
    "execution": {
     "iopub.execute_input": "2024-09-22T20:52:17.686816Z",
     "iopub.status.busy": "2024-09-22T20:52:17.685975Z",
     "iopub.status.idle": "2024-09-22T20:52:17.690343Z",
     "shell.execute_reply": "2024-09-22T20:52:17.689465Z",
     "shell.execute_reply.started": "2024-09-22T20:52:17.686791Z"
    }
   },
   "outputs": [],
   "source": [
    "data = tf.keras.datasets.fashion_mnist"
   ]
  },
  {
   "cell_type": "code",
   "execution_count": 28,
   "id": "fb8e010c-eeeb-4782-ad80-349ec916a6a2",
   "metadata": {
    "execution": {
     "iopub.execute_input": "2024-09-22T20:52:18.067017Z",
     "iopub.status.busy": "2024-09-22T20:52:18.066721Z",
     "iopub.status.idle": "2024-09-22T20:52:18.701403Z",
     "shell.execute_reply": "2024-09-22T20:52:18.700579Z",
     "shell.execute_reply.started": "2024-09-22T20:52:18.066995Z"
    }
   },
   "outputs": [],
   "source": [
    "(training_images,training_labels), (test_images, test_labels) = data.load_data()\n",
    "training_images = training_images /255.0\n",
    "test_images = test_images/255.0"
   ]
  },
  {
   "cell_type": "code",
   "execution_count": 29,
   "id": "38b8899d-f350-458e-a925-1b9a8ed2f5e9",
   "metadata": {
    "execution": {
     "iopub.execute_input": "2024-09-22T20:52:18.703438Z",
     "iopub.status.busy": "2024-09-22T20:52:18.703090Z",
     "iopub.status.idle": "2024-09-22T20:52:18.756931Z",
     "shell.execute_reply": "2024-09-22T20:52:18.755976Z",
     "shell.execute_reply.started": "2024-09-22T20:52:18.703414Z"
    }
   },
   "outputs": [],
   "source": [
    "model = tf.keras.models.Sequential([\n",
    "    tf.keras.layers.Flatten(input_shape=(28, 28)),\n",
    "    tf.keras.layers.Dense(128, activation=tf.nn.relu),\n",
    "    tf.keras.layers.Dense(10, activation=tf.nn.softmax)\n",
    "])\n"
   ]
  },
  {
   "cell_type": "code",
   "execution_count": 30,
   "id": "239573bf-d1d0-4ff6-a88c-0de7374b962b",
   "metadata": {
    "execution": {
     "iopub.execute_input": "2024-09-22T20:52:20.295428Z",
     "iopub.status.busy": "2024-09-22T20:52:20.294912Z",
     "iopub.status.idle": "2024-09-22T20:52:20.306869Z",
     "shell.execute_reply": "2024-09-22T20:52:20.306208Z",
     "shell.execute_reply.started": "2024-09-22T20:52:20.295391Z"
    }
   },
   "outputs": [],
   "source": [
    "model.compile(optimizer='adam',\n",
    "                loss='sparse_categorical_crossentropy',\n",
    "                metrics=['accuracy'])"
   ]
  },
  {
   "cell_type": "code",
   "execution_count": 33,
   "id": "5552a094-e183-42a4-9b00-e32e0de29af2",
   "metadata": {
    "execution": {
     "iopub.execute_input": "2024-09-22T20:54:45.952152Z",
     "iopub.status.busy": "2024-09-22T20:54:45.951437Z",
     "iopub.status.idle": "2024-09-22T20:55:53.010038Z",
     "shell.execute_reply": "2024-09-22T20:55:53.009145Z",
     "shell.execute_reply.started": "2024-09-22T20:54:45.952126Z"
    }
   },
   "outputs": [
    {
     "name": "stdout",
     "output_type": "stream",
     "text": [
      "Epoch 1/50\n",
      "1875/1875 [==============================] - 5s 3ms/step - loss: 0.3731 - accuracy: 0.8639\n",
      "Epoch 2/50\n",
      "1875/1875 [==============================] - 5s 3ms/step - loss: 0.3377 - accuracy: 0.8780\n",
      "Epoch 3/50\n",
      "1875/1875 [==============================] - 5s 3ms/step - loss: 0.3133 - accuracy: 0.8860\n",
      "Epoch 4/50\n",
      "1875/1875 [==============================] - 5s 3ms/step - loss: 0.2948 - accuracy: 0.8912\n",
      "Epoch 5/50\n",
      "1875/1875 [==============================] - 5s 3ms/step - loss: 0.2799 - accuracy: 0.8964\n",
      "Epoch 6/50\n",
      "1875/1875 [==============================] - 5s 3ms/step - loss: 0.2680 - accuracy: 0.9003\n",
      "Epoch 7/50\n",
      "1875/1875 [==============================] - 5s 3ms/step - loss: 0.2592 - accuracy: 0.9039\n",
      "Epoch 8/50\n",
      "1875/1875 [==============================] - 5s 3ms/step - loss: 0.2478 - accuracy: 0.9078\n",
      "Epoch 9/50\n",
      "1875/1875 [==============================] - 5s 3ms/step - loss: 0.2382 - accuracy: 0.9107\n",
      "Epoch 10/50\n",
      "1875/1875 [==============================] - 5s 3ms/step - loss: 0.2326 - accuracy: 0.9128\n",
      "Epoch 11/50\n",
      "1875/1875 [==============================] - 5s 3ms/step - loss: 0.2227 - accuracy: 0.9162\n",
      "Epoch 12/50\n",
      "1875/1875 [==============================] - 5s 3ms/step - loss: 0.2174 - accuracy: 0.9183\n",
      "Epoch 13/50\n",
      "1869/1875 [============================>.] - ETA: 0s - loss: 0.2098 - accuracy: 0.9212\n",
      "Reached 92% accuracy, stopping training\n",
      "1875/1875 [==============================] - 5s 3ms/step - loss: 0.2097 - accuracy: 0.9212\n"
     ]
    },
    {
     "data": {
      "text/plain": [
       "<keras.src.callbacks.History at 0x7f356e3a3250>"
      ]
     },
     "execution_count": 33,
     "metadata": {},
     "output_type": "execute_result"
    }
   ],
   "source": [
    "model.fit(training_images, training_labels, epochs=50, callbacks=[callback])"
   ]
  },
  {
   "cell_type": "code",
   "execution_count": 34,
   "id": "1b67ff3b-58bf-436e-816d-2427cc94a903",
   "metadata": {
    "execution": {
     "iopub.execute_input": "2024-09-22T20:56:03.755895Z",
     "iopub.status.busy": "2024-09-22T20:56:03.755589Z",
     "iopub.status.idle": "2024-09-22T20:56:04.814220Z",
     "shell.execute_reply": "2024-09-22T20:56:04.813376Z",
     "shell.execute_reply.started": "2024-09-22T20:56:03.755870Z"
    }
   },
   "outputs": [
    {
     "name": "stdout",
     "output_type": "stream",
     "text": [
      "313/313 [==============================] - 1s 2ms/step - loss: 0.3366 - accuracy: 0.8881\n"
     ]
    },
    {
     "data": {
      "text/plain": [
       "[0.3366025984287262, 0.8881000280380249]"
      ]
     },
     "execution_count": 34,
     "metadata": {},
     "output_type": "execute_result"
    }
   ],
   "source": [
    "model.evaluate(test_images, test_labels)"
   ]
  },
  {
   "cell_type": "code",
   "execution_count": 35,
   "id": "fa0b2659-ec74-4481-82b4-48f70d95ec10",
   "metadata": {
    "execution": {
     "iopub.execute_input": "2024-09-22T20:56:13.468729Z",
     "iopub.status.busy": "2024-09-22T20:56:13.468433Z",
     "iopub.status.idle": "2024-09-22T20:56:14.206788Z",
     "shell.execute_reply": "2024-09-22T20:56:14.206132Z",
     "shell.execute_reply.started": "2024-09-22T20:56:13.468706Z"
    }
   },
   "outputs": [
    {
     "name": "stdout",
     "output_type": "stream",
     "text": [
      "313/313 [==============================] - 0s 1ms/step\n",
      "[1.7328942e-08 8.1295992e-09 1.4699311e-08 1.5800662e-10 7.3888138e-08\n",
      " 9.2401817e-05 8.2329628e-09 1.9174362e-02 5.3632032e-08 9.8073304e-01]\n",
      "9\n"
     ]
    }
   ],
   "source": [
    "classifications = model.predict(test_images)\n",
    "print(classifications[0])\n",
    "print(test_labels[0])\n"
   ]
  },
  {
   "cell_type": "code",
   "execution_count": null,
   "id": "c6aa20d1-3e1c-4489-ae1e-dec99cfce547",
   "metadata": {},
   "outputs": [],
   "source": []
  },
  {
   "cell_type": "code",
   "execution_count": null,
   "id": "5bcdf4f0-5ba8-487f-9508-8b9d4cafaa33",
   "metadata": {},
   "outputs": [],
   "source": []
  },
  {
   "cell_type": "code",
   "execution_count": null,
   "id": "7cbc0887-0528-4bef-82f7-a200d38ba2f1",
   "metadata": {},
   "outputs": [],
   "source": []
  },
  {
   "cell_type": "code",
   "execution_count": null,
   "id": "23a41ee1-c60f-4b47-9057-91b5bedcf5fd",
   "metadata": {},
   "outputs": [],
   "source": []
  }
 ],
 "metadata": {
  "kernelspec": {
   "display_name": "Python 3 (ipykernel)",
   "language": "python",
   "name": "python3"
  },
  "language_info": {
   "codemirror_mode": {
    "name": "ipython",
    "version": 3
   },
   "file_extension": ".py",
   "mimetype": "text/x-python",
   "name": "python",
   "nbconvert_exporter": "python",
   "pygments_lexer": "ipython3",
   "version": "3.11.7"
  }
 },
 "nbformat": 4,
 "nbformat_minor": 5
}
